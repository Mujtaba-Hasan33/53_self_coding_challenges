{
  "cells": [
    {
      "cell_type": "markdown",
      "metadata": {
        "id": "view-in-github",
        "colab_type": "text"
      },
      "source": [
        "<a href=\"https://colab.research.google.com/github/Mujtaba-Hasan33/53_self_coding_challenges/blob/main/53_self_coding_challenges.ipynb\" target=\"_parent\"><img src=\"https://colab.research.google.com/assets/colab-badge.svg\" alt=\"Open In Colab\"/></a>"
      ]
    },
    {
      "cell_type": "markdown",
      "metadata": {
        "id": "5p2DhHKD0mef"
      },
      "source": [
        "This program prompts the user to enter two numbers, adds them together, and then displays the result. Here’s a quick breakdown of what it does:\n",
        "\n",
        "\n",
        "\n",
        "1.  Prompts the User: It asks the user to input two numbers.\n",
        "2.  Converts Inputs to Integers: It converts these string inputs into integers for arithmetic.\n",
        "3.  Calculates the Sum: It adds the two integers.\n",
        "4,  Displays the Total: It prints the sum of the two numbers.\n",
        "\n",
        "\n",
        "\n"
      ]
    },
    {
      "cell_type": "code",
      "execution_count": null,
      "metadata": {
        "colab": {
          "base_uri": "https://localhost:8080/"
        },
        "id": "37a7iWOC0_ov",
        "outputId": "eef9254a-5ad2-484e-cb82-36de3570b051"
      },
      "outputs": [
        {
          "name": "stdout",
          "output_type": "stream",
          "text": [
            "This program add two numbers\n",
            "Enter a First number 2\n",
            "Enter a Second number 19\n",
            "The sum of total  is 21\n"
          ]
        }
      ],
      "source": [
        "def add2numbers():\n",
        "  print(\"This program add two numbers\")\n",
        "  num1: int = int(input(\"Enter a First number \"))\n",
        "  num2: int = int(input(\"Enter a Second number \"))\n",
        "  result = num1 + num2\n",
        "  print(f\"The sum of total  is {result}\")\n",
        "\n",
        "if __name__ == '__main__':\n",
        "    add2numbers()"
      ]
    },
    {
      "cell_type": "markdown",
      "metadata": {
        "id": "wjLWMnsJfBIh"
      },
      "source": [
        "1. Prompts the User: Asks the user, \"What is your favorite animal?\" and stores the response in the favourite_animal variable.\n",
        "\n",
        "2. Prints the Response: Displays a message to the user, showing their favorite animal with a sentence, \"Your favorite animal is [animal].\"\n",
        "\n",
        "3. Conditional Execution: The line if __name__ == '__main__': ensures that the function runs only if the script is executed directly, not if imported as a module."
      ]
    },
    {
      "cell_type": "code",
      "execution_count": null,
      "metadata": {
        "colab": {
          "base_uri": "https://localhost:8080/"
        },
        "id": "oSXw9OfXfBsJ",
        "outputId": "9e55abc6-0e0f-46cb-f383-c48d777ed164"
      },
      "outputs": [
        {
          "name": "stdout",
          "output_type": "stream",
          "text": [
            "What is your favorite animal? Elephant\n",
            "Your favorite animal is Elephant!\n"
          ]
        }
      ],
      "source": [
        "def fav_animal():\n",
        "  favourite_animal = input(\"What is your favorite animal? \")\n",
        "  print(f\"Your favorite animal is {favourite_animal}!\")\n",
        "\n",
        "if __name__ == '__main__':\n",
        "    fav_animal()"
      ]
    },
    {
      "cell_type": "markdown",
      "metadata": {
        "id": "ROANoBYhg90J"
      },
      "source": [
        "1. Prompts User Input: Asks the user to input a temperature in Fahrenheit, which is then converted to a float for calculation.\n",
        "2. Performs Conversion: Uses the formula (fahrenheit - 32) * 5/9 to calculate the equivalent temperature in Celsius.\n",
        "3. Prints the Result: Displays the Celsius temperature formatted to two decimal places."
      ]
    },
    {
      "cell_type": "code",
      "execution_count": null,
      "metadata": {
        "colab": {
          "base_uri": "https://localhost:8080/"
        },
        "id": "tVft6x1zg-Cg",
        "outputId": "9db79d9a-083c-4da3-db6a-0b3b7d36cd6e"
      },
      "outputs": [
        {
          "name": "stdout",
          "output_type": "stream",
          "text": [
            "Enter temperature in Fahrenheit: 76\n",
            "76.0 degrees Fahrenheit is equal to 24.44 degrees Celsius.\n"
          ]
        }
      ],
      "source": [
        "def  fahren_celsius():\n",
        "  fahrenheit = float(input(\"Enter temperature in Fahrenheit: \"))\n",
        "  celsius = (fahrenheit - 32) * 5/9\n",
        "  print(f\"{fahrenheit} degrees Fahrenheit is equal to {celsius:.2f} degrees Celsius.\")\n",
        "if __name__ == '__main__':\n",
        "    fahren_celsius()"
      ]
    },
    {
      "cell_type": "markdown",
      "metadata": {
        "id": "1AmjG7YzLt4V"
      },
      "source": [
        "1. Assigns Initial Ages:\n",
        "\n",
        "Sets Anton’s age to 21.\n",
        "Calculates Beth's age as 6 + Anton.\n",
        "Calculates Chen's age as 20 + Beth.\n",
        "Calculates Drew's age as Chen + Anton.\n",
        "Prints Ages:\n",
        "\n",
        "Outputs each person’s name and age, converting each age to a string for display.\n",
        "This function, when called, displays each person's age with these calculations in a formatted strin"
      ]
    },
    {
      "cell_type": "code",
      "execution_count": null,
      "metadata": {
        "colab": {
          "base_uri": "https://localhost:8080/"
        },
        "id": "qMoLMJwcLuU7",
        "outputId": "d941be20-ce8e-4de1-812d-ab8572f22804"
      },
      "outputs": [
        {
          "name": "stdout",
          "output_type": "stream",
          "text": [
            "Anton's age is 21\n",
            "Beth's age is 27\n",
            "Chen's age is 47\n",
            "Drew's age is 68\n"
          ]
        }
      ],
      "source": [
        "def freinds_age():\n",
        "  anton: int = 21\n",
        "  beth: int = 6 + anton\n",
        "  chen: int = 20 + beth\n",
        "  drew: int = chen + anton\n",
        "  print(f\"Anton's age is {str(anton)}\")\n",
        "  print(f\"Beth's age is {str(beth)}\")\n",
        "  print(f\"Chen's age is {str(chen)}\")\n",
        "  print(f\"Drew's age is {str(drew)}\")\n",
        "\n",
        "if __name__ == '__main__':\n",
        "    freinds_age()"
      ]
    },
    {
      "cell_type": "markdown",
      "metadata": {
        "id": "r-AKXWTZOSIJ"
      },
      "source": [
        "User Input for Sides:\n",
        "\n",
        "It prompts the user to input the lengths of the triangle's three sides, converting each input to a float for decimal precision.\n",
        "Perimeter Calculation:\n",
        "\n",
        "It calculates the perimeter by adding the three side lengths together.\n",
        "Formatted Output:\n",
        "\n",
        "It prints the perimeter rounded to two decimal places using .2f."
      ]
    },
    {
      "cell_type": "code",
      "execution_count": null,
      "metadata": {
        "colab": {
          "base_uri": "https://localhost:8080/"
        },
        "id": "4rzORFyFOSZr",
        "outputId": "305bd79b-2d54-41cb-d8c4-db86d35863c6"
      },
      "outputs": [
        {
          "name": "stdout",
          "output_type": "stream",
          "text": [
            "Enter the length of side 1: 3\n",
            "Enter the length of side 2: 4\n",
            "Enter the length of side 3: 5.5\n",
            "The perimeter of the triangle is 12.50\n"
          ]
        }
      ],
      "source": [
        "def perim_triangle():\n",
        "  side1 = float(input(\"Enter the length of side 1: \"))\n",
        "  side2 = float(input(\"Enter the length of side 2: \"))\n",
        "  side3 = float(input(\"Enter the length of side 3: \"))\n",
        "  perimeter:str = side1 + side2 + side3\n",
        "  print(f\"The perimeter of the triangle is {perimeter:.2f}\")\n",
        "\n",
        "if __name__ == '__main__':\n",
        "    perim_triangle()"
      ]
    },
    {
      "cell_type": "markdown",
      "metadata": {
        "id": "8Ud-wdzpSHls"
      },
      "source": [
        "1. User Input: It prompts the user to input a number by displaying the message \"Type a number to see its square:\". The input is converted to a float to allow for decimal numbers.\n",
        "\n",
        "2. Calculates the Square: It calculates the square of the input number using the exponentiation operator **, which raises the number to the power of 2.\n",
        "\n",
        "3. Output: The function then prints the result in a formatted string, showing both the original number and its square."
      ]
    },
    {
      "cell_type": "code",
      "execution_count": null,
      "metadata": {
        "colab": {
          "base_uri": "https://localhost:8080/"
        },
        "id": "F4GJ-JThSIAb",
        "outputId": "edd6942a-2cc5-4deb-d90e-da565295749a"
      },
      "outputs": [
        {
          "name": "stdout",
          "output_type": "stream",
          "text": [
            "Type a number to see its square: 4\n",
            "The square of 4.0 is 16.0\n"
          ]
        }
      ],
      "source": [
        "def squared():\n",
        "  num: float = float(input(\"Type a number to see its square: \"))\n",
        "  square: float = num ** 2\n",
        "  print(f\"The square of {num} is {square}\")\n",
        "\n",
        "if __name__ == '__main__':\n",
        "    squared()"
      ]
    },
    {
      "cell_type": "markdown",
      "metadata": {
        "id": "SPsZvckfTieT"
      },
      "source": [
        "The roll_dice() function simulates rolling two dice, calculates their sum, and prints the result. It uses random.randint() to generate a random number between 1 and NUM_SIDES (6) for each die. The function then outputs the individual dice values and their total."
      ]
    },
    {
      "cell_type": "code",
      "execution_count": null,
      "metadata": {
        "colab": {
          "base_uri": "https://localhost:8080/"
        },
        "id": "4kqQLcEmTiz4",
        "outputId": "0818713c-2451-4fad-dafb-4539a695bd1a"
      },
      "outputs": [
        {
          "output_type": "stream",
          "name": "stdout",
          "text": [
            "die1: 10\n",
            "Total: 4\n",
            "Total: 9\n",
            "Total: 10\n",
            "die1:10\n"
          ]
        }
      ],
      "source": [
        "import random\n",
        "\n",
        "# Number of sides on each die to roll\n",
        "NUM_SIDES = 6\n",
        "\n",
        "def roll_dice():\n",
        "    # Roll two dice\n",
        "    die1 = random.randint(1, NUM_SIDES)\n",
        "    die2 = random.randint(1, NUM_SIDES)\n",
        "    total = die1 + die2\n",
        "\n",
        "    # Print the results\n",
        "    print(f\"Total: {total}\")\n",
        "\n",
        "def main():\n",
        "    die1: int = 10\n",
        "    print(\"die1:\",die1)\n",
        "    # Roll the dice\n",
        "    roll_dice()\n",
        "    roll_dice()\n",
        "    roll_dice()\n",
        "    print(\"die1:\" + str(die1))\n",
        "\n",
        "if __name__ == \"__main__\":\n",
        "    main()"
      ]
    },
    {
      "cell_type": "markdown",
      "source": [
        "The energy_calculate() function:\n",
        "\n",
        "Asks the user for a mass in kilograms.\n",
        "Calculates energy using Einstein’s formula\n",
        "𝐸\n",
        "=\n",
        "𝑚\n",
        "𝑐\n",
        "2\n",
        "E=mc\n",
        "2\n",
        " .\n",
        "Prints the mass, speed of light, and the calculated energy in joules.\n",
        "In short, it calculates and displays energy based on the provided mass."
      ],
      "metadata": {
        "id": "lHK_uS80SsEC"
      }
    },
    {
      "cell_type": "code",
      "source": [
        "C: int = 299792458\n",
        "def energy_calculate():\n",
        "  mass_in_kg = float(input(\"Enter the mass in kilograms: \"))\n",
        "  energy_in_joules = mass_in_kg * (C ** 2)\n",
        "  print(\"e = m * C^2...\")\n",
        "  print(f\"m = {str(mass_in_kg)} kg\")\n",
        "  print(f\"C = {str(C)} m/s\")\n",
        "  print(f\"e = {str(energy_in_joules)} J\")\n",
        "\n",
        "if __name__ == '__main__':\n",
        "    energy_calculate()"
      ],
      "metadata": {
        "colab": {
          "base_uri": "https://localhost:8080/"
        },
        "id": "LLTv3SoCSsbh",
        "outputId": "1b9af1a6-c25f-4a0f-9237-4ea6c46e16d0"
      },
      "execution_count": null,
      "outputs": [
        {
          "output_type": "stream",
          "name": "stdout",
          "text": [
            "Enter the mass in kilograms: 100\n",
            "e = m * C^2...\n",
            "m = 100.0 kg\n",
            "C = 299792458 m/s\n",
            "e = 8.987551787368176e+18 J\n"
          ]
        }
      ]
    },
    {
      "cell_type": "markdown",
      "source": [],
      "metadata": {
        "id": "WDq8w11WXwd_"
      }
    },
    {
      "cell_type": "code",
      "source": [
        "Inches_In_Foot = 12\n",
        "def Inches_In_Feet():\n",
        "  feet = float(input(\"Enter the number of inches: \"))\n",
        "  inches = Inches_In_Foot  * feet\n",
        "  print(f\"{inches} inches is equal to {feet} feet.\")\n",
        "if __name__ == '__main__':\n",
        "    Inches_In_Feet()"
      ],
      "metadata": {
        "colab": {
          "base_uri": "https://localhost:8080/"
        },
        "id": "vOK30CDhXxQd",
        "outputId": "655fba8b-df4a-4514-b146-a73db7e63524"
      },
      "execution_count": null,
      "outputs": [
        {
          "output_type": "stream",
          "name": "stdout",
          "text": [
            "Enter the number of inches: 4\n",
            "48.0 inches is equal to 4.0 feet.\n"
          ]
        }
      ]
    },
    {
      "cell_type": "markdown",
      "source": [
        "The calculate_hypotenuse() function:\n",
        "\n",
        "Prompts the user to input the lengths of sides AB and AC.\n",
        "Calculates the hypotenuse BC using the Pythagorean theorem.\n",
        "Prints the result with two decimal places.\n",
        "The function runs only if the script is executed directly."
      ],
      "metadata": {
        "id": "PovdbyYRghOo"
      }
    },
    {
      "cell_type": "code",
      "source": [
        "import math\n",
        "\n",
        "def calculate_hypotenuse():\n",
        "  ab: float = float(input(\"Enter the length of side AB: \"))\n",
        "  ac: float = float(input(\"Enter the length of side AC: \"))\n",
        "  bc = math.sqrt(ab**2 + ac**2)\n",
        "  print(f\"The length of side BC is {bc:.2f}\")\n",
        "\n",
        "if __name__ == '__main__':\n",
        "    calculate_hypotenuse()\n"
      ],
      "metadata": {
        "colab": {
          "base_uri": "https://localhost:8080/"
        },
        "id": "ZQ0MeU1Gghkz",
        "outputId": "425e03dd-c72d-46db-a8f8-65bcca6999bb"
      },
      "execution_count": null,
      "outputs": [
        {
          "output_type": "stream",
          "name": "stdout",
          "text": [
            "Enter the length of side AB: 5\n",
            "Enter the length of side AC: 5\n",
            "The length of side BC is 7.07\n"
          ]
        }
      ]
    },
    {
      "cell_type": "markdown",
      "source": [
        "The divide() function:\n",
        "\n",
        "Takes two numbers from the user as dividend and divisor.\n",
        "Calculates and prints the quotient (using //) and remainder (using %).\n",
        "Runs when executed directly due to if __name__ == '__main__':"
      ],
      "metadata": {
        "id": "81H3lFe1uNJX"
      }
    },
    {
      "cell_type": "code",
      "source": [
        "def divide():\n",
        "  dividend: int = int(input(\"Enter the dividend: \"))\n",
        "  divisor: int = int(input(\"Enter the divisor: \"))\n",
        "  quotient: int = dividend // divisor\n",
        "  remainder: int = dividend % divisor\n",
        "  print(f\"The quotient is {quotient}\")\n",
        "  print(f\"The remainder is {remainder}\")\n",
        "\n",
        "if __name__ == '__main__':\n",
        "    divide()"
      ],
      "metadata": {
        "colab": {
          "base_uri": "https://localhost:8080/"
        },
        "id": "BzQuRj3zuNb0",
        "outputId": "12462646-d423-45c9-a779-55f40db3ffde"
      },
      "execution_count": null,
      "outputs": [
        {
          "output_type": "stream",
          "name": "stdout",
          "text": [
            "Enter the dividend: 5\n",
            "Enter the divisor: 3\n",
            "The quotient is 1\n",
            "The remainder is 2\n"
          ]
        }
      ]
    },
    {
      "cell_type": "markdown",
      "source": [
        "In THis function first import random method of python\n",
        "2nd make a variable num_sides store a value of 6\n",
        "create roll function and make two variable die1 or die2 and add random randint method to simulate method 1 to 6 and total the die1 or die2 result or print it"
      ],
      "metadata": {
        "id": "JeTzMlZ8wxG9"
      }
    },
    {
      "cell_type": "code",
      "source": [
        "import random\n",
        "num_sides = 6\n",
        "def roll():\n",
        "  die1 = random.randint(1, num_sides)\n",
        "  die2 = random.randint(1, num_sides)\n",
        "  total = die1 + die2\n",
        "  print(f\"Total: {total}\")\n",
        "\n",
        "if __name__ == '__main__':\n",
        "  roll()"
      ],
      "metadata": {
        "colab": {
          "base_uri": "https://localhost:8080/"
        },
        "id": "1g7JERxCwxin",
        "outputId": "337c2395-7988-4b51-de72-06f517f53faa"
      },
      "execution_count": null,
      "outputs": [
        {
          "output_type": "stream",
          "name": "stdout",
          "text": [
            "Total: 8\n"
          ]
        }
      ]
    },
    {
      "cell_type": "markdown",
      "source": [
        "\n",
        "The seconds_in_year() function:\n",
        "\n",
        "Defines constants for days per year, hours per day, minutes per hour, and seconds per minute.\n",
        "Multiplies these to calculate total seconds in a year.\n",
        "Prints the result.\n",
        "The function runs only if executed directly."
      ],
      "metadata": {
        "id": "fsBzER-jyBlg"
      }
    },
    {
      "cell_type": "code",
      "source": [
        "def seconds_in_year():\n",
        "  Days_per_year = 365\n",
        "  Hours_per_day = 24\n",
        "  Minutes_per_hour = 60\n",
        "  Seconds_per_minute = 60\n",
        "  seconds_in_year = Days_per_year * Hours_per_day * Minutes_per_hour * Seconds_per_minute\n",
        "  print(f\"There are {seconds_in_year} seconds in a year.\")\n",
        "\n",
        "if __name__ == '__main__':\n",
        "    seconds_in_year()"
      ],
      "metadata": {
        "colab": {
          "base_uri": "https://localhost:8080/"
        },
        "id": "2c1rd1fNyB4_",
        "outputId": "9ebf6625-1929-48db-8cff-7e6a0e3acbb0"
      },
      "execution_count": null,
      "outputs": [
        {
          "output_type": "stream",
          "name": "stdout",
          "text": [
            "There are 31536000 seconds in a year.\n"
          ]
        }
      ]
    },
    {
      "cell_type": "markdown",
      "source": [
        "The tiny_mad_libs() function:\n",
        "\n",
        "Prompts the user to input an adjective, noun, and verb.\n",
        "Concatenates these inputs with a preset sentence, SENTENCE_START, to create a fun sentence.\n",
        "Prints the final sentence."
      ],
      "metadata": {
        "id": "GrJg2qn9zQ2f"
      }
    },
    {
      "cell_type": "code",
      "source": [
        "SENTENCE_START: str = \"Panaversity is fun. I learned to program and used Python to make my \"\n",
        "def tiny_mad_libs():\n",
        "  adjective: str = input(\"Enter an adjective: \")\n",
        "  noun: str = input(\"Enter a noun: \")\n",
        "  verb: str = input(\"Enter a verb: \")\n",
        "  print(f\"{SENTENCE_START} {adjective} {noun} {verb}\")\n",
        "\n",
        "if __name__ == '__main__':\n",
        "    tiny_mad_libs()"
      ],
      "metadata": {
        "colab": {
          "base_uri": "https://localhost:8080/"
        },
        "id": "JJY-C6ZjzRVV",
        "outputId": "60c2417f-c684-4c60-d7ab-bcc89669f459"
      },
      "execution_count": null,
      "outputs": [
        {
          "output_type": "stream",
          "name": "stdout",
          "text": [
            "Enter an adjective: tiny\n",
            "Enter a noun: mad\n",
            "Enter a verb: fly\n",
            "Panaversity is fun. I learned to program and used Python to make my  tiny mad fly\n"
          ]
        }
      ]
    },
    {
      "cell_type": "markdown",
      "source": [
        "Defines a list of numbers, num, containing [1, 2, 3, 4, 5].\n",
        "Uses Python's sum() function to calculate the total of these numbers.\n",
        "Prints the sum."
      ],
      "metadata": {
        "id": "HWT7eqo42Mk8"
      }
    },
    {
      "cell_type": "code",
      "source": [
        "def sum_of_numbers():\n",
        "  num : list = [1,2,3,4,5]\n",
        "  total = sum(num)\n",
        "  print(f\"The sum of the numbers is {total}\")\n",
        "\n",
        "if __name__ == '__main__':\n",
        "    sum_of_numbers()"
      ],
      "metadata": {
        "colab": {
          "base_uri": "https://localhost:8080/"
        },
        "id": "MS7Kf_0C2M-C",
        "outputId": "9d24427a-7f05-4cee-fbde-6397a366b1ed"
      },
      "execution_count": null,
      "outputs": [
        {
          "output_type": "stream",
          "name": "stdout",
          "text": [
            "The sum of the numbers is 15\n"
          ]
        }
      ]
    }
  ],
  "metadata": {
    "colab": {
      "provenance": [],
      "authorship_tag": "ABX9TyPDkJu3EYhoLJGachbiTTLx",
      "include_colab_link": true
    },
    "kernelspec": {
      "display_name": "Python 3",
      "name": "python3"
    },
    "language_info": {
      "name": "python"
    }
  },
  "nbformat": 4,
  "nbformat_minor": 0
}